{
 "cells": [
  {
   "cell_type": "markdown",
   "id": "15292164-b65a-473d-b1c2-9b5ce6a5a6ed",
   "metadata": {},
   "source": [
    "***MULTIPROCESSING ASSIGNMENT***"
   ]
  },
  {
   "cell_type": "markdown",
   "id": "752c18e1-3fa2-4af0-a2a1-b4ef5949aee7",
   "metadata": {},
   "source": [
    "Q1. What is multiprocessing in python? Why is it useful?"
   ]
  },
  {
   "cell_type": "markdown",
   "id": "2e5f2785-981b-48e0-8c12-cb1770dd51b4",
   "metadata": {},
   "source": [
    "Ans-"
   ]
  },
  {
   "cell_type": "markdown",
   "id": "b5c7211e-84aa-4eec-8aaf-f2b45c4875f0",
   "metadata": {},
   "source": [
    "***Multiprocessing:*** Multiprocessing refers to the ability of a system to support more than one processor at the same time. Applications in a multiprocessing system are broken to smaller routines that run independently. The operating system allocates these threads to the processors improving performance of the system."
   ]
  },
  {
   "cell_type": "markdown",
   "id": "6a8de251-4bf7-44a0-83d3-abbdd2955a3d",
   "metadata": {},
   "source": [
    "***Why is it useful?:*** Multiprocessing in Python is a technique that enables the execution of multiple processes simultaneously, making effective use of modern CPUs with multiple cores. It's beneficial for tasks that can be split into smaller parts and executed independently, such as computations, data processing, and I/O operations. By leveraging multiprocessing, you can achieve better performance, improved application responsiveness, and efficient utilization of hardware resources."
   ]
  },
  {
   "cell_type": "markdown",
   "id": "34f13393-c6d2-403d-a6b6-0dad44b0b4c6",
   "metadata": {},
   "source": [
    "Q2. What are the differences between multiprocessing and multithreading?"
   ]
  },
  {
   "cell_type": "markdown",
   "id": "d77ca3c9-b98c-48c6-806e-1d0e9f159ed7",
   "metadata": {},
   "source": [
    "Ans-"
   ]
  },
  {
   "cell_type": "markdown",
   "id": "e08a545e-b7fa-4f45-a655-a641aa7b1933",
   "metadata": {
    "tags": []
   },
   "source": [
    "***Multiprocessing--:***\n",
    "***(1)*** Involves running multiple processes, each with its own memory space and Python interpreter instance.\n",
    "***(1)*** Ideal for CPU-bound tasks, where the program spends a lot of time performing computations.\n",
    "***(3)*** Can fully utilize multiple CPU cores, as each process runs independently.\n",
    "***(4)*** Provides better isolation between processes, reducing the likelihood of one process affecting others.\n",
    "***(5)*** Requires inter-process communication mechanisms like queues or pipes to share data between processes.\n",
    "***(6)*** Overhead of creating processes is higher than creating threads due to separate memory spaces."
   ]
  },
  {
   "cell_type": "markdown",
   "id": "71ccca3c-89c2-41c8-a860-ec8495ccc71d",
   "metadata": {},
   "source": [
    "***Multithreading--:***\n",
    "***(1)*** Uses multiple threads within a single process, sharing the same memory space and Python interpreter.\n",
    "***(2)*** More suitable for I/O-bound tasks, where the program spends time waiting for external resources.\n",
    "***(3)*** Can't fully utilize multiple CPU cores due to the Global Interpreter Lock (GIL), which prevents multiple native threads from executing Python code concurrently.\n",
    "***(4)*** Threads share memory, making data sharing easier but potentially leading to synchronization challenges.\n",
    "***(5)*** Offers lower overhead for thread creation compared to processes.\n",
    "***(6)*** Can be useful for tasks that require concurrency but not extensive CPU processing.\n",
    "***In summary, multiprocessing is better for tasks that require heavy computation and can benefit from parallel execution on multiple cores***"
   ]
  },
  {
   "cell_type": "markdown",
   "id": "39555f6f-6a1e-4a20-b666-750f9c1c9bbc",
   "metadata": {},
   "source": [
    "Q3. Write a python code to create a process using the multiprocessing module."
   ]
  },
  {
   "cell_type": "markdown",
   "id": "6bc2adb4-3ed9-489c-87cd-475ddd086970",
   "metadata": {},
   "source": [
    "Ans-"
   ]
  },
  {
   "cell_type": "code",
   "execution_count": 12,
   "id": "bf3f7a3b-527e-4cd1-a8bc-8af3ce034dff",
   "metadata": {},
   "outputs": [
    {
     "name": "stdout",
     "output_type": "stream",
     "text": [
      "square:100\n",
      "cube:1000\n",
      "both process done\n"
     ]
    }
   ],
   "source": [
    "# cube and square of 5\n",
    "import multiprocessing\n",
    "\n",
    "def cube(number):\n",
    "    print(\"cube:{}\".format(number*number*number))\n",
    "def square(number):\n",
    "    print(\"square:{}\".format(number*number))\n",
    "    \n",
    "if __name__ == \"__main__\":\n",
    "    p1 = multiprocessing.Process(target=square, args=(10, ))\n",
    "    p2 = multiprocessing.Process(target=cube, args=(10, ))\n",
    "   \n",
    "        # starting process\n",
    "    p1.start()\n",
    "    p2.start()\n",
    "    \n",
    "    p1.join()\n",
    "    p2.join()\n",
    "\n",
    "print(\"both process done\")\n",
    " \n"
   ]
  },
  {
   "cell_type": "markdown",
   "id": "8cf649f0-00ca-41fd-ae92-64080b49284a",
   "metadata": {},
   "source": [
    "Q4. What is a multiprocessing pool in python? Why is it used?"
   ]
  },
  {
   "cell_type": "markdown",
   "id": "1883a5db-a208-4b44-9c1d-e47c75478b23",
   "metadata": {},
   "source": [
    "Ans-"
   ]
  },
  {
   "cell_type": "markdown",
   "id": "d228d1a1-79c0-4b89-8019-46536453917c",
   "metadata": {},
   "source": [
    "***MULTIPROCESSING--:*** In Python, a multiprocessing pool is a feature provided by the multiprocessing module. It's designed to help you execute functions concurrently by distributing the workload across multiple processes. This is particularly useful for tasks that are computationally intensive and can be parallelized."
   ]
  },
  {
   "cell_type": "markdown",
   "id": "cc51cd24-366d-4b1e-afa1-2d9d0b32e0f7",
   "metadata": {},
   "source": [
    "***WHY IS IT USED--:*** A multiprocessing pool in Python is used to run tasks concurrently across multiple processes, making better use of multi-core CPUs and improving the performance of CPU-bound operations."
   ]
  },
  {
   "cell_type": "markdown",
   "id": "edb3216b-739d-45a1-8b4d-47709fcbc11d",
   "metadata": {},
   "source": [
    "Q5. How can we create a pool of worker processes in python using the multiprocessing module?"
   ]
  },
  {
   "cell_type": "markdown",
   "id": "9fe70d75-2b5a-4f26-9b39-1feb38411119",
   "metadata": {},
   "source": [
    "Ans-"
   ]
  },
  {
   "cell_type": "code",
   "execution_count": 1,
   "id": "2f1b2064-a7a7-4abc-8548-dbddb222060c",
   "metadata": {},
   "outputs": [
    {
     "name": "stdout",
     "output_type": "stream",
     "text": [
      "[1, 4, 9, 16, 25]\n"
     ]
    }
   ],
   "source": [
    "import multiprocessing\n",
    "\n",
    "def square(num):\n",
    "    return num * num\n",
    "if __name__ == \"__main__\":\n",
    "    my_data=[1,2,3,4,5,]\n",
    "    number_of_process = 4\n",
    "    \n",
    "    \n",
    "    with multiprocessing.Pool(processes=number_of_process)as pool:\n",
    "        result=pool.map(square, my_data)\n",
    "        \n",
    "print(result)\n",
    "    "
   ]
  },
  {
   "cell_type": "markdown",
   "id": "623bff0a-b488-46bf-982c-680dae8b7f52",
   "metadata": {},
   "source": [
    "Q6. Write a python program to create 4 processes, each process should print a different number using the\n",
    "multiprocessing module in python."
   ]
  },
  {
   "cell_type": "markdown",
   "id": "d2d54ba2-7e0b-4bd9-a8c9-c8d9908777c1",
   "metadata": {},
   "source": [
    "Ans-"
   ]
  },
  {
   "cell_type": "code",
   "execution_count": 9,
   "id": "6423760a-92d5-4fe9-b32e-7122f32d1d33",
   "metadata": {},
   "outputs": [
    {
     "name": "stdout",
     "output_type": "stream",
     "text": [
      "process ForkPoolWorker-29 - number: 4process ForkPoolWorker-31 - number: 6process ForkPoolWorker-30 - number: 5process ForkPoolWorker-32 - number: 7\n",
      "\n",
      "\n",
      "\n"
     ]
    }
   ],
   "source": [
    "import multiprocessing\n",
    "def my_num(numbers):\n",
    "    print(f\"process {multiprocessing.current_process().name} - number: {numbers}\")\n",
    "if __name__ == \"__main__\":\n",
    "    num=[4,5,6,7]\n",
    "    num_process=4\n",
    "    \n",
    "    with multiprocessing.Pool(processes=num_process) as pool:\n",
    "        \n",
    "        pool.map(my_num,num)\n"
   ]
  },
  {
   "cell_type": "code",
   "execution_count": null,
   "id": "db1ce733-a065-4ca5-a5c0-a54f600cc299",
   "metadata": {},
   "outputs": [],
   "source": []
  }
 ],
 "metadata": {
  "kernelspec": {
   "display_name": "Python 3 (ipykernel)",
   "language": "python",
   "name": "python3"
  },
  "language_info": {
   "codemirror_mode": {
    "name": "ipython",
    "version": 3
   },
   "file_extension": ".py",
   "mimetype": "text/x-python",
   "name": "python",
   "nbconvert_exporter": "python",
   "pygments_lexer": "ipython3",
   "version": "3.10.8"
  }
 },
 "nbformat": 4,
 "nbformat_minor": 5
}
